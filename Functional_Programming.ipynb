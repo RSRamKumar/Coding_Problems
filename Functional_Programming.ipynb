{
 "cells": [
  {
   "cell_type": "code",
   "execution_count": 1,
   "metadata": {},
   "outputs": [],
   "source": [
    "scientist: [\n",
    "    {'name':'Ada Lovlace','field':'math','born':1815,'noble':False},\n",
    "    {'name':'Emmy Noether','field':'math','born':1882,'noble': False}\n",
    "]\n",
    "\n",
    "    \n",
    "# example of mutable datastructure\n",
    "\n",
    "# functional programming emphasizes on immutable datastructure"
   ]
  },
  {
   "cell_type": "code",
   "execution_count": 2,
   "metadata": {},
   "outputs": [],
   "source": [
    "import collections\n",
    "from collections import namedtuple\n",
    "from pprint import pprint"
   ]
  },
  {
   "cell_type": "code",
   "execution_count": 3,
   "metadata": {},
   "outputs": [],
   "source": [
    "Scientist = namedtuple('Scientist',\n",
    "                      ['name','field','born','noble'])"
   ]
  },
  {
   "cell_type": "code",
   "execution_count": 4,
   "metadata": {},
   "outputs": [
    {
     "data": {
      "text/plain": [
       "__main__.Scientist"
      ]
     },
     "execution_count": 4,
     "metadata": {},
     "output_type": "execute_result"
    }
   ],
   "source": [
    "Scientist"
   ]
  },
  {
   "cell_type": "code",
   "execution_count": 5,
   "metadata": {},
   "outputs": [],
   "source": [
    "ada=Scientist(name='Ada Lovlace',field='math',born=1815,noble=False)\n",
    "emmy= Scientist(name='Emmy Noether',field='math',born=1882,noble= False)"
   ]
  },
  {
   "cell_type": "code",
   "execution_count": 6,
   "metadata": {},
   "outputs": [
    {
     "name": "stdout",
     "output_type": "stream",
     "text": [
      "Ada Lovlace math\n"
     ]
    }
   ],
   "source": [
    "print(ada.name,ada.field)\n",
    "# named tuples are immutable"
   ]
  },
  {
   "cell_type": "code",
   "execution_count": 7,
   "metadata": {},
   "outputs": [],
   "source": [
    "scientist= [ada,emmy]"
   ]
  },
  {
   "cell_type": "code",
   "execution_count": 8,
   "metadata": {},
   "outputs": [
    {
     "name": "stdout",
     "output_type": "stream",
     "text": [
      "[Scientist(name='Ada Lovlace', field='math', born=1815, noble=False),\n",
      " Scientist(name='Emmy Noether', field='math', born=1882, noble=False)]\n"
     ]
    }
   ],
   "source": [
    "pprint(scientist)"
   ]
  },
  {
   "cell_type": "code",
   "execution_count": 9,
   "metadata": {},
   "outputs": [],
   "source": [
    "#scientist[0].name = \"Ram\" # not possible"
   ]
  },
  {
   "cell_type": "code",
   "execution_count": 10,
   "metadata": {},
   "outputs": [],
   "source": [
    "# lists is mutable - deletion and insertion possible\n",
    "# so better to use immutable list -- tuple"
   ]
  },
  {
   "cell_type": "code",
   "execution_count": 11,
   "metadata": {},
   "outputs": [],
   "source": [
    "scientist= (ada,emmy)"
   ]
  },
  {
   "cell_type": "code",
   "execution_count": 12,
   "metadata": {},
   "outputs": [],
   "source": [
    "# del scientist[0]\n",
    "# not possible"
   ]
  },
  {
   "cell_type": "code",
   "execution_count": 13,
   "metadata": {},
   "outputs": [
    {
     "data": {
      "text/plain": [
       "'Ada Lovlace'"
      ]
     },
     "execution_count": 13,
     "metadata": {},
     "output_type": "execute_result"
    }
   ],
   "source": [
    "scientist[0].name"
   ]
  },
  {
   "cell_type": "markdown",
   "metadata": {},
   "source": [
    "## Filter function"
   ]
  },
  {
   "cell_type": "code",
   "execution_count": 14,
   "metadata": {},
   "outputs": [],
   "source": [
    "#Return an iterator yielding those items of iterable for which function(item)\n",
    "#is true. If function is None, return the items that are true."
   ]
  },
  {
   "cell_type": "code",
   "execution_count": 15,
   "metadata": {},
   "outputs": [],
   "source": [
    "scientist = (\n",
    "    Scientist(name='Ada Lovlace', field='math', born=1815, noble=False),\n",
    "    Scientist(name='Emmy Noether', field='math', born=1815, noble=False),\n",
    "    Scientist(name='Marie Curie', field='physics', born=1867, noble=True),\n",
    "    Scientist(name='Tu Youyou', field='chemistry', born=1930, noble=True),\n",
    "    Scientist(name='Ada Yonath', field='chemistry', born=1939, noble=True),\n",
    "    Scientist(name='Vera Rubin', field='astronomy', born=1928, noble=False),\n",
    "    Scientist(name='Sally Ride', field='physics', born=1951, noble=False)\n",
    "    \n",
    ")"
   ]
  },
  {
   "cell_type": "code",
   "execution_count": 16,
   "metadata": {},
   "outputs": [
    {
     "data": {
      "text/plain": [
       "(Scientist(name='Marie Curie', field='physics', born=1867, noble=True),\n",
       " Scientist(name='Tu Youyou', field='chemistry', born=1930, noble=True),\n",
       " Scientist(name='Ada Yonath', field='chemistry', born=1939, noble=True))"
      ]
     },
     "execution_count": 16,
     "metadata": {},
     "output_type": "execute_result"
    }
   ],
   "source": [
    "scientist_who_won_noble=tuple(filter(lambda x: x.noble, scientist))\n",
    "scientist_who_won_noble"
   ]
  },
  {
   "cell_type": "code",
   "execution_count": 17,
   "metadata": {},
   "outputs": [],
   "source": [
    "filter?"
   ]
  },
  {
   "cell_type": "code",
   "execution_count": 18,
   "metadata": {},
   "outputs": [
    {
     "data": {
      "text/plain": [
       "(Scientist(name='Ada Lovlace', field='math', born=1815, noble=False),\n",
       " Scientist(name='Emmy Noether', field='math', born=1815, noble=False),\n",
       " Scientist(name='Vera Rubin', field='astronomy', born=1928, noble=False),\n",
       " Scientist(name='Sally Ride', field='physics', born=1951, noble=False))"
      ]
     },
     "execution_count": 18,
     "metadata": {},
     "output_type": "execute_result"
    }
   ],
   "source": [
    "scientist_who_won_no_noble=tuple(filter(lambda x:not x.noble, scientist))\n",
    "scientist_who_won_no_noble"
   ]
  },
  {
   "cell_type": "code",
   "execution_count": 19,
   "metadata": {},
   "outputs": [
    {
     "data": {
      "text/plain": [
       "(Scientist(name='Marie Curie', field='physics', born=1867, noble=True),)"
      ]
     },
     "execution_count": 19,
     "metadata": {},
     "output_type": "execute_result"
    }
   ],
   "source": [
    "tuple(filter(lambda x: x.field==\"physics\" and x.noble, scientist))"
   ]
  },
  {
   "cell_type": "code",
   "execution_count": 20,
   "metadata": {},
   "outputs": [
    {
     "name": "stdout",
     "output_type": "stream",
     "text": [
      "(Scientist(name='Marie Curie', field='physics', born=1867, noble=True),\n",
      " Scientist(name='Tu Youyou', field='chemistry', born=1930, noble=True),\n",
      " Scientist(name='Ada Yonath', field='chemistry', born=1939, noble=True))\n"
     ]
    }
   ],
   "source": [
    "def noble_filter(x):\n",
    "    return x.noble\n",
    "\n",
    "pprint(tuple(filter(noble_filter, scientist)))\n"
   ]
  },
  {
   "cell_type": "code",
   "execution_count": 21,
   "metadata": {},
   "outputs": [
    {
     "name": "stdout",
     "output_type": "stream",
     "text": [
      "(Scientist(name='Marie Curie', field='physics', born=1867, noble=True),\n",
      " Scientist(name='Tu Youyou', field='chemistry', born=1930, noble=True),\n",
      " Scientist(name='Ada Yonath', field='chemistry', born=1939, noble=True))\n"
     ]
    }
   ],
   "source": [
    "pprint(tuple(x for x in scientist if x.noble))"
   ]
  }
 ],
 "metadata": {
  "kernelspec": {
   "display_name": "Python 3",
   "language": "python",
   "name": "python3"
  },
  "language_info": {
   "codemirror_mode": {
    "name": "ipython",
    "version": 3
   },
   "file_extension": ".py",
   "mimetype": "text/x-python",
   "name": "python",
   "nbconvert_exporter": "python",
   "pygments_lexer": "ipython3",
   "version": "3.7.3"
  }
 },
 "nbformat": 4,
 "nbformat_minor": 2
}
