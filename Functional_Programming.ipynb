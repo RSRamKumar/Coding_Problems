{
 "cells": [
  {
   "cell_type": "code",
   "execution_count": null,
   "metadata": {},
   "outputs": [],
   "source": [
    "Reference:"
   ]
  },
  {
   "cell_type": "code",
   "execution_count": 1,
   "metadata": {},
   "outputs": [],
   "source": [
    "scientist: [\n",
    "    {'name':'Ada Lovlace','field':'math','born':1815,'noble':False},\n",
    "    {'name':'Emmy Noether','field':'math','born':1882,'noble': False}\n",
    "]\n",
    "\n",
    "    \n",
    "# example of mutable datastructure\n",
    "\n",
    "# functional programming emphasizes on immutable datastructure"
   ]
  },
  {
   "cell_type": "code",
   "execution_count": 2,
   "metadata": {},
   "outputs": [],
   "source": [
    "import collections\n",
    "from collections import namedtuple\n",
    "from pprint import pprint"
   ]
  },
  {
   "cell_type": "code",
   "execution_count": 3,
   "metadata": {},
   "outputs": [],
   "source": [
    "Scientist = namedtuple('Scientist',\n",
    "                      ['name','field','born','noble'])"
   ]
  },
  {
   "cell_type": "code",
   "execution_count": 4,
   "metadata": {},
   "outputs": [
    {
     "data": {
      "text/plain": [
       "__main__.Scientist"
      ]
     },
     "execution_count": 4,
     "metadata": {},
     "output_type": "execute_result"
    }
   ],
   "source": [
    "Scientist"
   ]
  },
  {
   "cell_type": "code",
   "execution_count": 5,
   "metadata": {},
   "outputs": [],
   "source": [
    "ada=Scientist(name='Ada Lovlace',field='math',born=1815,noble=False)\n",
    "emmy= Scientist(name='Emmy Noether',field='math',born=1882,noble= False)"
   ]
  },
  {
   "cell_type": "code",
   "execution_count": 6,
   "metadata": {},
   "outputs": [
    {
     "name": "stdout",
     "output_type": "stream",
     "text": [
      "Ada Lovlace math\n"
     ]
    }
   ],
   "source": [
    "print(ada.name,ada.field)\n",
    "# named tuples are immutable"
   ]
  },
  {
   "cell_type": "code",
   "execution_count": 7,
   "metadata": {},
   "outputs": [],
   "source": [
    "scientist= [ada,emmy]"
   ]
  },
  {
   "cell_type": "code",
   "execution_count": 8,
   "metadata": {},
   "outputs": [
    {
     "name": "stdout",
     "output_type": "stream",
     "text": [
      "[Scientist(name='Ada Lovlace', field='math', born=1815, noble=False),\n",
      " Scientist(name='Emmy Noether', field='math', born=1882, noble=False)]\n"
     ]
    }
   ],
   "source": [
    "pprint(scientist)"
   ]
  },
  {
   "cell_type": "code",
   "execution_count": 9,
   "metadata": {},
   "outputs": [],
   "source": [
    "#scientist[0].name = \"Ram\" # not possible"
   ]
  },
  {
   "cell_type": "code",
   "execution_count": 10,
   "metadata": {},
   "outputs": [],
   "source": [
    "# lists is mutable - deletion and insertion possible\n",
    "# so better to use immutable list -- tuple"
   ]
  },
  {
   "cell_type": "code",
   "execution_count": 11,
   "metadata": {},
   "outputs": [],
   "source": [
    "scientist= (ada,emmy)"
   ]
  },
  {
   "cell_type": "code",
   "execution_count": 12,
   "metadata": {},
   "outputs": [],
   "source": [
    "# del scientist[0]\n",
    "# not possible"
   ]
  },
  {
   "cell_type": "code",
   "execution_count": 13,
   "metadata": {},
   "outputs": [
    {
     "data": {
      "text/plain": [
       "'Ada Lovlace'"
      ]
     },
     "execution_count": 13,
     "metadata": {},
     "output_type": "execute_result"
    }
   ],
   "source": [
    "scientist[0].name"
   ]
  },
  {
   "cell_type": "markdown",
   "metadata": {},
   "source": [
    "## Filter function"
   ]
  },
  {
   "cell_type": "code",
   "execution_count": 14,
   "metadata": {},
   "outputs": [],
   "source": [
    "#Return an iterator yielding those items of iterable for which function(item)\n",
    "#is true. If function is None, return the items that are true."
   ]
  },
  {
   "cell_type": "code",
   "execution_count": 32,
   "metadata": {},
   "outputs": [],
   "source": [
    "scientist = (\n",
    "    Scientist(name='Ada Lovlace', field='math', born=1815, noble=False),\n",
    "    Scientist(name='Emmy Noether', field='math', born=1882, noble=False),\n",
    "    Scientist(name='Marie Curie', field='physics', born=1867, noble=True),\n",
    "    Scientist(name='Tu Youyou', field='chemistry', born=1930, noble=True),\n",
    "    Scientist(name='Ada Yonath', field='chemistry', born=1939, noble=True),\n",
    "    Scientist(name='Vera Rubin', field='astronomy', born=1928, noble=False),\n",
    "    Scientist(name='Sally Ride', field='physics', born=1951, noble=False)\n",
    "    \n",
    ")"
   ]
  },
  {
   "cell_type": "code",
   "execution_count": 33,
   "metadata": {},
   "outputs": [
    {
     "data": {
      "text/plain": [
       "(Scientist(name='Marie Curie', field='physics', born=1867, noble=True),\n",
       " Scientist(name='Tu Youyou', field='chemistry', born=1930, noble=True),\n",
       " Scientist(name='Ada Yonath', field='chemistry', born=1939, noble=True))"
      ]
     },
     "execution_count": 33,
     "metadata": {},
     "output_type": "execute_result"
    }
   ],
   "source": [
    "scientist_who_won_noble=tuple(filter(lambda x: x.noble, scientist))\n",
    "scientist_who_won_noble"
   ]
  },
  {
   "cell_type": "code",
   "execution_count": 17,
   "metadata": {},
   "outputs": [],
   "source": [
    "filter?"
   ]
  },
  {
   "cell_type": "code",
   "execution_count": 34,
   "metadata": {},
   "outputs": [
    {
     "data": {
      "text/plain": [
       "(Scientist(name='Ada Lovlace', field='math', born=1815, noble=False),\n",
       " Scientist(name='Emmy Noether', field='math', born=1882, noble=False),\n",
       " Scientist(name='Vera Rubin', field='astronomy', born=1928, noble=False),\n",
       " Scientist(name='Sally Ride', field='physics', born=1951, noble=False))"
      ]
     },
     "execution_count": 34,
     "metadata": {},
     "output_type": "execute_result"
    }
   ],
   "source": [
    "scientist_who_won_no_noble=tuple(filter(lambda x:not x.noble, scientist))\n",
    "scientist_who_won_no_noble"
   ]
  },
  {
   "cell_type": "code",
   "execution_count": 35,
   "metadata": {},
   "outputs": [
    {
     "data": {
      "text/plain": [
       "(Scientist(name='Marie Curie', field='physics', born=1867, noble=True),)"
      ]
     },
     "execution_count": 35,
     "metadata": {},
     "output_type": "execute_result"
    }
   ],
   "source": [
    "tuple(filter(lambda x: x.field==\"physics\" and x.noble, scientist))"
   ]
  },
  {
   "cell_type": "code",
   "execution_count": 36,
   "metadata": {},
   "outputs": [
    {
     "name": "stdout",
     "output_type": "stream",
     "text": [
      "(Scientist(name='Marie Curie', field='physics', born=1867, noble=True),\n",
      " Scientist(name='Tu Youyou', field='chemistry', born=1930, noble=True),\n",
      " Scientist(name='Ada Yonath', field='chemistry', born=1939, noble=True))\n"
     ]
    }
   ],
   "source": [
    "def noble_filter(x):\n",
    "    return x.noble\n",
    "\n",
    "pprint(tuple(filter(noble_filter, scientist)))\n"
   ]
  },
  {
   "cell_type": "code",
   "execution_count": 37,
   "metadata": {},
   "outputs": [
    {
     "name": "stdout",
     "output_type": "stream",
     "text": [
      "(Scientist(name='Marie Curie', field='physics', born=1867, noble=True),\n",
      " Scientist(name='Tu Youyou', field='chemistry', born=1930, noble=True),\n",
      " Scientist(name='Ada Yonath', field='chemistry', born=1939, noble=True))\n"
     ]
    }
   ],
   "source": [
    "pprint(tuple(x for x in scientist if x.noble))"
   ]
  },
  {
   "cell_type": "markdown",
   "metadata": {},
   "source": [
    "## Map function"
   ]
  },
  {
   "cell_type": "code",
   "execution_count": 22,
   "metadata": {},
   "outputs": [],
   "source": [
    "#Make an iterator that computes the function using arguments from\n",
    "#each of the iterables.  Stops when the shortest iterable is exhausted."
   ]
  },
  {
   "cell_type": "code",
   "execution_count": 38,
   "metadata": {},
   "outputs": [
    {
     "data": {
      "text/plain": [
       "(Scientist(name='Ada Lovlace', field='math', born=1815, noble=False),\n",
       " Scientist(name='Emmy Noether', field='math', born=1882, noble=False),\n",
       " Scientist(name='Marie Curie', field='physics', born=1867, noble=True),\n",
       " Scientist(name='Tu Youyou', field='chemistry', born=1930, noble=True),\n",
       " Scientist(name='Ada Yonath', field='chemistry', born=1939, noble=True),\n",
       " Scientist(name='Vera Rubin', field='astronomy', born=1928, noble=False),\n",
       " Scientist(name='Sally Ride', field='physics', born=1951, noble=False))"
      ]
     },
     "execution_count": 38,
     "metadata": {},
     "output_type": "execute_result"
    }
   ],
   "source": [
    "scientist"
   ]
  },
  {
   "cell_type": "code",
   "execution_count": 39,
   "metadata": {},
   "outputs": [
    {
     "data": {
      "text/plain": [
       "(('Ada Lovlace', 206),\n",
       " ('Emmy Noether', 139),\n",
       " ('Marie Curie', 154),\n",
       " ('Tu Youyou', 91),\n",
       " ('Ada Yonath', 82),\n",
       " ('Vera Rubin', 93),\n",
       " ('Sally Ride', 70))"
      ]
     },
     "execution_count": 39,
     "metadata": {},
     "output_type": "execute_result"
    }
   ],
   "source": [
    "tuple(map(lambda x: (x.name, 2021-x.born),scientist))"
   ]
  },
  {
   "cell_type": "code",
   "execution_count": 40,
   "metadata": {},
   "outputs": [
    {
     "data": {
      "text/plain": [
       "({'name': 'Ada Lovlace', 'age': 206},\n",
       " {'name': 'Emmy Noether', 'age': 139},\n",
       " {'name': 'Marie Curie', 'age': 154},\n",
       " {'name': 'Tu Youyou', 'age': 91},\n",
       " {'name': 'Ada Yonath', 'age': 82},\n",
       " {'name': 'Vera Rubin', 'age': 93},\n",
       " {'name': 'Sally Ride', 'age': 70})"
      ]
     },
     "execution_count": 40,
     "metadata": {},
     "output_type": "execute_result"
    }
   ],
   "source": [
    "name_age=tuple(map(lambda x: {\"name\":x.name, \"age\":2021-x.born},scientist))\n",
    "name_age"
   ]
  },
  {
   "cell_type": "code",
   "execution_count": 43,
   "metadata": {},
   "outputs": [
    {
     "data": {
      "text/plain": [
       "({'name': 'ADA LOVLACE', 'age': 202},\n",
       " {'name': 'EMMY NOETHER', 'age': 135},\n",
       " {'name': 'MARIE CURIE', 'age': 150},\n",
       " {'name': 'TU YOUYOU', 'age': 87},\n",
       " {'name': 'ADA YONATH', 'age': 78},\n",
       " {'name': 'VERA RUBIN', 'age': 89},\n",
       " {'name': 'SALLY RIDE', 'age': 66})"
      ]
     },
     "execution_count": 43,
     "metadata": {},
     "output_type": "execute_result"
    }
   ],
   "source": [
    "name_age_list=tuple({\"name\":x.name.upper(), \"age\":2017-x.born} for x in scientist)\n",
    "name_age_list"
   ]
  },
  {
   "cell_type": "markdown",
   "metadata": {},
   "source": [
    "## Reduce Function"
   ]
  },
  {
   "cell_type": "code",
   "execution_count": 27,
   "metadata": {},
   "outputs": [],
   "source": [
    "from functools import reduce"
   ]
  },
  {
   "cell_type": "code",
   "execution_count": 28,
   "metadata": {},
   "outputs": [],
   "source": [
    "#Apply a function of two arguments cumulatively to the items of a sequence,\n",
    "#from left to right, so as to reduce the sequence to a single value."
   ]
  },
  {
   "cell_type": "code",
   "execution_count": 52,
   "metadata": {},
   "outputs": [
    {
     "data": {
      "text/plain": [
       "({'name': 'ADA LOVLACE', 'age': 202},\n",
       " {'name': 'EMMY NOETHER', 'age': 135},\n",
       " {'name': 'MARIE CURIE', 'age': 150},\n",
       " {'name': 'TU YOUYOU', 'age': 87},\n",
       " {'name': 'ADA YONATH', 'age': 78},\n",
       " {'name': 'VERA RUBIN', 'age': 89},\n",
       " {'name': 'SALLY RIDE', 'age': 66})"
      ]
     },
     "execution_count": 52,
     "metadata": {},
     "output_type": "execute_result"
    }
   ],
   "source": [
    "name_age_list"
   ]
  },
  {
   "cell_type": "code",
   "execution_count": 55,
   "metadata": {},
   "outputs": [
    {
     "data": {
      "text/plain": [
       "({'name': 'ADA YONATH', 'age': 78}, {'name': 'SALLY RIDE', 'age': 66})"
      ]
     },
     "execution_count": 55,
     "metadata": {},
     "output_type": "execute_result"
    }
   ],
   "source": [
    "tuple(filter(lambda x:x['age']<80,name_age_list))"
   ]
  },
  {
   "cell_type": "code",
   "execution_count": 44,
   "metadata": {},
   "outputs": [
    {
     "data": {
      "text/plain": [
       "808"
      ]
     },
     "execution_count": 44,
     "metadata": {},
     "output_type": "execute_result"
    }
   ],
   "source": [
    "total_age = reduce(\n",
    "lambda acc, val: acc + val['age'],name_age_list,\n",
    "0)   \n",
    "# 0 is the intial sum value\n",
    "total_age"
   ]
  },
  {
   "cell_type": "code",
   "execution_count": 59,
   "metadata": {},
   "outputs": [
    {
     "data": {
      "text/plain": [
       "({'name': 'ADA YONATH', 'age': 78}, {'name': 'SALLY RIDE', 'age': 66})"
      ]
     },
     "execution_count": 59,
     "metadata": {},
     "output_type": "execute_result"
    }
   ],
   "source": [
    "age_gt_80=tuple(filter(lambda x:x['age']<80,name_age_list))\n",
    "age_gt_80"
   ]
  },
  {
   "cell_type": "code",
   "execution_count": 68,
   "metadata": {},
   "outputs": [
    {
     "data": {
      "text/plain": [
       "144"
      ]
     },
     "execution_count": 68,
     "metadata": {},
     "output_type": "execute_result"
    }
   ],
   "source": [
    "total_age_filter= reduce (\n",
    "lambda acc,val:acc+val['age'],filter(lambda x:x['age']<80,name_age_list),0)\n",
    "total_age_filter"
   ]
  },
  {
   "cell_type": "code",
   "execution_count": 67,
   "metadata": {},
   "outputs": [
    {
     "data": {
      "text/plain": [
       "144"
      ]
     },
     "execution_count": 67,
     "metadata": {},
     "output_type": "execute_result"
    }
   ],
   "source": [
    "sum(x['age'] for x in name_age_list if  x['age'] <80)"
   ]
  },
  {
   "cell_type": "markdown",
   "metadata": {},
   "source": [
    "# grouping function by reduce"
   ]
  },
  {
   "cell_type": "code",
   "execution_count": 77,
   "metadata": {},
   "outputs": [],
   "source": [
    "def reducer(acc,val):\n",
    "    acc[val.field].append(val.name)\n",
    "    return acc\n"
   ]
  },
  {
   "cell_type": "code",
   "execution_count": 78,
   "metadata": {},
   "outputs": [],
   "source": [
    "scientist_by_group= reduce(\n",
    "reducer,\n",
    "    scientist,\n",
    "{'math':[],'physics':[],'chemistry':[],'astronomy':[]})"
   ]
  },
  {
   "cell_type": "code",
   "execution_count": 79,
   "metadata": {},
   "outputs": [
    {
     "data": {
      "text/plain": [
       "{'math': ['Ada Lovlace', 'Emmy Noether'],\n",
       " 'physics': ['Marie Curie', 'Sally Ride'],\n",
       " 'chemistry': ['Tu Youyou', 'Ada Yonath'],\n",
       " 'astronomy': ['Vera Rubin']}"
      ]
     },
     "execution_count": 79,
     "metadata": {},
     "output_type": "execute_result"
    }
   ],
   "source": [
    "scientist_by_group"
   ]
  },
  {
   "cell_type": "code",
   "execution_count": 80,
   "metadata": {},
   "outputs": [],
   "source": [
    "from collections import defaultdict"
   ]
  },
  {
   "cell_type": "code",
   "execution_count": 81,
   "metadata": {},
   "outputs": [],
   "source": [
    "scientist_by_group= reduce(\n",
    "reducer,\n",
    "    scientist,\n",
    "defaultdict(list))"
   ]
  },
  {
   "cell_type": "code",
   "execution_count": 83,
   "metadata": {},
   "outputs": [
    {
     "data": {
      "text/plain": [
       "{'math': ['Ada Lovlace', 'Emmy Noether'],\n",
       " 'physics': ['Marie Curie', 'Sally Ride'],\n",
       " 'chemistry': ['Tu Youyou', 'Ada Yonath'],\n",
       " 'astronomy': ['Vera Rubin']}"
      ]
     },
     "execution_count": 83,
     "metadata": {},
     "output_type": "execute_result"
    }
   ],
   "source": [
    "dict(scientist_by_group)"
   ]
  },
  {
   "cell_type": "code",
   "execution_count": null,
   "metadata": {},
   "outputs": [],
   "source": []
  }
 ],
 "metadata": {
  "kernelspec": {
   "display_name": "Python 3",
   "language": "python",
   "name": "python3"
  },
  "language_info": {
   "codemirror_mode": {
    "name": "ipython",
    "version": 3
   },
   "file_extension": ".py",
   "mimetype": "text/x-python",
   "name": "python",
   "nbconvert_exporter": "python",
   "pygments_lexer": "ipython3",
   "version": "3.7.3"
  }
 },
 "nbformat": 4,
 "nbformat_minor": 2
}
